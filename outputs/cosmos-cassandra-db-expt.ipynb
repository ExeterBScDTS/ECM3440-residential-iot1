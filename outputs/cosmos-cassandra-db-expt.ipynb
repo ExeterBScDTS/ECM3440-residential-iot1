{
 "cells": [
  {
   "cell_type": "markdown",
   "metadata": {},
   "source": [
    "See <https://github.com/Azure-Samples/azure-cosmos-db-cassandra-python-getting-started>\n",
    "\n"
   ]
  },
  {
   "cell_type": "markdown",
   "metadata": {},
   "source": [
    "Cassandra table\n",
    "\n",
    "```\n",
    "(enqueuedutc timestamp, temperature float, PRIMARY KEY (enqueuedutc))\n",
    "```"
   ]
  },
  {
   "cell_type": "code",
   "execution_count": 33,
   "metadata": {},
   "outputs": [],
   "source": [
    "\n",
    "from cassandra.auth import PlainTextAuthProvider\n",
    "from cassandra.cluster import Cluster\n",
    "from cassandra.policies import *\n",
    "from ssl import PROTOCOL_TLSv1_2, SSLContext, CERT_NONE\n"
   ]
  },
  {
   "cell_type": "code",
   "execution_count": 34,
   "metadata": {},
   "outputs": [],
   "source": [
    "config = {\n",
    "         'username': 'msaunby',\n",
    "\n",
    "         'password': 'dQYJk71xJPpoDj2kYCyUsKpfxwARXY8YQXRRaaSAKy6ayqi1fpx92MwKPsFyEpUxFdbrvIiK519Lk34TKu1nxQ==',\n",
    "\n",
    "         'readpassword': 'R7xqKHdQjhylg4tKlPOo7oXAh6Liar1Z2lZ7ODzfZQxa02QKstssdzteGJW6pvBRccNjbGPMppP1eyYScMMWDw==',\n",
    "\n",
    "         'contactPoint': 'msaunby.cassandra.cosmos.azure.com',\n",
    "\n",
    "         'port':'10350'\n",
    "         }\n",
    "\n"
   ]
  },
  {
   "cell_type": "code",
   "execution_count": 35,
   "metadata": {},
   "outputs": [],
   "source": [
    "#<authenticateAndConnect>\n",
    "ssl_context = SSLContext(PROTOCOL_TLSv1_2)\n",
    "ssl_context.verify_mode = CERT_NONE\n",
    "auth_provider = PlainTextAuthProvider(username=config['username'], password=config['password'])\n",
    "cluster = Cluster([config['contactPoint']], port = config['port'], auth_provider=auth_provider,ssl_context=ssl_context)\n",
    "session = cluster.connect()\n",
    "#</authenticateAndConnect>\n"
   ]
  },
  {
   "cell_type": "code",
   "execution_count": 36,
   "metadata": {},
   "outputs": [
    {
     "data": {
      "text/plain": [
       "<cassandra.cluster.ResultSet at 0x7f8f202e9ca0>"
      ]
     },
     "execution_count": 36,
     "metadata": {},
     "output_type": "execute_result"
    }
   ],
   "source": [
    "import datetime\n",
    "now = datetime.datetime.now(datetime.timezone.utc)\n",
    "\n",
    "#session.execute(\"DELETE temperature FROM experimental.temperature_data USING TIMESTAMP %s\", [now])\n",
    "\n",
    "#<insertData>\n",
    "# expire this entry after one day\n",
    "one_day = 86400\n",
    "session.execute(\"INSERT INTO  experimental.temperature_data  (enqueuedutc , temperature) VALUES (%s,%s) USING TTL %s\", [now,156.0, one_day])\n",
    "#</insertData>"
   ]
  }
 ],
 "metadata": {
  "interpreter": {
   "hash": "5b0f5e365db351d1b089d85d2c7a40b315716deb975f6498d96aa365bff146da"
  },
  "kernelspec": {
   "display_name": "Python 3.9.7 64-bit ('venv': venv)",
   "name": "python3"
  },
  "language_info": {
   "codemirror_mode": {
    "name": "ipython",
    "version": 3
   },
   "file_extension": ".py",
   "mimetype": "text/x-python",
   "name": "python",
   "nbconvert_exporter": "python",
   "pygments_lexer": "ipython3",
   "version": "3.9.7"
  },
  "orig_nbformat": 4
 },
 "nbformat": 4,
 "nbformat_minor": 2
}
